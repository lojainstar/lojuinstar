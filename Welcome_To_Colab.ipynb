{
  "cells": [
    {
      "cell_type": "markdown",
      "metadata": {
        "id": "view-in-github",
        "colab_type": "text"
      },
      "source": [
        "<a href=\"https://colab.research.google.com/github/lojainstar/lojuinstar/blob/main/Welcome_To_Colab.ipynb\" target=\"_parent\"><img src=\"https://colab.research.google.com/assets/colab-badge.svg\" alt=\"Open In Colab\"/></a>"
      ]
    },
    {
      "cell_type": "code",
      "source": [
        "!pip install transformers\n",
        "!pip install sentence-transformers\n",
        "!pip install faiss-cpu\n",
        "!pip install edge-tts\n",
        "#تحميل المكتبات هنا تم برمجة بسيطه لشات بوت الراق باستخدام تعزيز الصوت"
      ],
      "metadata": {
        "colab": {
          "base_uri": "https://localhost:8080/"
        },
        "id": "DUcOm0jJFU-k",
        "outputId": "af6e6d10-52f2-4882-a74e-b11a92293806"
      },
      "execution_count": 50,
      "outputs": [
        {
          "output_type": "stream",
          "name": "stdout",
          "text": [
            "Requirement already satisfied: transformers in /usr/local/lib/python3.11/dist-packages (4.54.1)\n",
            "Requirement already satisfied: filelock in /usr/local/lib/python3.11/dist-packages (from transformers) (3.18.0)\n",
            "Requirement already satisfied: huggingface-hub<1.0,>=0.34.0 in /usr/local/lib/python3.11/dist-packages (from transformers) (0.34.3)\n",
            "Requirement already satisfied: numpy>=1.17 in /usr/local/lib/python3.11/dist-packages (from transformers) (2.0.2)\n",
            "Requirement already satisfied: packaging>=20.0 in /usr/local/lib/python3.11/dist-packages (from transformers) (25.0)\n",
            "Requirement already satisfied: pyyaml>=5.1 in /usr/local/lib/python3.11/dist-packages (from transformers) (6.0.2)\n",
            "Requirement already satisfied: regex!=2019.12.17 in /usr/local/lib/python3.11/dist-packages (from transformers) (2024.11.6)\n",
            "Requirement already satisfied: requests in /usr/local/lib/python3.11/dist-packages (from transformers) (2.32.3)\n",
            "Requirement already satisfied: tokenizers<0.22,>=0.21 in /usr/local/lib/python3.11/dist-packages (from transformers) (0.21.4)\n",
            "Requirement already satisfied: safetensors>=0.4.3 in /usr/local/lib/python3.11/dist-packages (from transformers) (0.5.3)\n",
            "Requirement already satisfied: tqdm>=4.27 in /usr/local/lib/python3.11/dist-packages (from transformers) (4.67.1)\n",
            "Requirement already satisfied: fsspec>=2023.5.0 in /usr/local/lib/python3.11/dist-packages (from huggingface-hub<1.0,>=0.34.0->transformers) (2025.3.0)\n",
            "Requirement already satisfied: typing-extensions>=3.7.4.3 in /usr/local/lib/python3.11/dist-packages (from huggingface-hub<1.0,>=0.34.0->transformers) (4.14.1)\n",
            "Requirement already satisfied: hf-xet<2.0.0,>=1.1.3 in /usr/local/lib/python3.11/dist-packages (from huggingface-hub<1.0,>=0.34.0->transformers) (1.1.5)\n",
            "Requirement already satisfied: charset-normalizer<4,>=2 in /usr/local/lib/python3.11/dist-packages (from requests->transformers) (3.4.2)\n",
            "Requirement already satisfied: idna<4,>=2.5 in /usr/local/lib/python3.11/dist-packages (from requests->transformers) (3.10)\n",
            "Requirement already satisfied: urllib3<3,>=1.21.1 in /usr/local/lib/python3.11/dist-packages (from requests->transformers) (2.5.0)\n",
            "Requirement already satisfied: certifi>=2017.4.17 in /usr/local/lib/python3.11/dist-packages (from requests->transformers) (2025.7.14)\n"
          ]
        },
        {
          "output_type": "stream",
          "name": "stderr",
          "text": [
            "/usr/lib/python3.11/pathlib.py:540: RuntimeWarning: coroutine 'tts_play' was never awaited\n",
            "  return self._str\n",
            "RuntimeWarning: Enable tracemalloc to get the object allocation traceback\n"
          ]
        },
        {
          "output_type": "stream",
          "name": "stdout",
          "text": [
            "Requirement already satisfied: sentence-transformers in /usr/local/lib/python3.11/dist-packages (4.1.0)\n",
            "Requirement already satisfied: transformers<5.0.0,>=4.41.0 in /usr/local/lib/python3.11/dist-packages (from sentence-transformers) (4.54.1)\n",
            "Requirement already satisfied: tqdm in /usr/local/lib/python3.11/dist-packages (from sentence-transformers) (4.67.1)\n",
            "Requirement already satisfied: torch>=1.11.0 in /usr/local/lib/python3.11/dist-packages (from sentence-transformers) (2.6.0+cu124)\n",
            "Requirement already satisfied: scikit-learn in /usr/local/lib/python3.11/dist-packages (from sentence-transformers) (1.6.1)\n",
            "Requirement already satisfied: scipy in /usr/local/lib/python3.11/dist-packages (from sentence-transformers) (1.16.1)\n",
            "Requirement already satisfied: huggingface-hub>=0.20.0 in /usr/local/lib/python3.11/dist-packages (from sentence-transformers) (0.34.3)\n",
            "Requirement already satisfied: Pillow in /usr/local/lib/python3.11/dist-packages (from sentence-transformers) (11.3.0)\n",
            "Requirement already satisfied: typing_extensions>=4.5.0 in /usr/local/lib/python3.11/dist-packages (from sentence-transformers) (4.14.1)\n",
            "Requirement already satisfied: filelock in /usr/local/lib/python3.11/dist-packages (from huggingface-hub>=0.20.0->sentence-transformers) (3.18.0)\n",
            "Requirement already satisfied: fsspec>=2023.5.0 in /usr/local/lib/python3.11/dist-packages (from huggingface-hub>=0.20.0->sentence-transformers) (2025.3.0)\n",
            "Requirement already satisfied: packaging>=20.9 in /usr/local/lib/python3.11/dist-packages (from huggingface-hub>=0.20.0->sentence-transformers) (25.0)\n",
            "Requirement already satisfied: pyyaml>=5.1 in /usr/local/lib/python3.11/dist-packages (from huggingface-hub>=0.20.0->sentence-transformers) (6.0.2)\n",
            "Requirement already satisfied: requests in /usr/local/lib/python3.11/dist-packages (from huggingface-hub>=0.20.0->sentence-transformers) (2.32.3)\n",
            "Requirement already satisfied: hf-xet<2.0.0,>=1.1.3 in /usr/local/lib/python3.11/dist-packages (from huggingface-hub>=0.20.0->sentence-transformers) (1.1.5)\n",
            "Requirement already satisfied: networkx in /usr/local/lib/python3.11/dist-packages (from torch>=1.11.0->sentence-transformers) (3.5)\n",
            "Requirement already satisfied: jinja2 in /usr/local/lib/python3.11/dist-packages (from torch>=1.11.0->sentence-transformers) (3.1.6)\n",
            "Requirement already satisfied: nvidia-cuda-nvrtc-cu12==12.4.127 in /usr/local/lib/python3.11/dist-packages (from torch>=1.11.0->sentence-transformers) (12.4.127)\n",
            "Requirement already satisfied: nvidia-cuda-runtime-cu12==12.4.127 in /usr/local/lib/python3.11/dist-packages (from torch>=1.11.0->sentence-transformers) (12.4.127)\n",
            "Requirement already satisfied: nvidia-cuda-cupti-cu12==12.4.127 in /usr/local/lib/python3.11/dist-packages (from torch>=1.11.0->sentence-transformers) (12.4.127)\n",
            "Requirement already satisfied: nvidia-cudnn-cu12==9.1.0.70 in /usr/local/lib/python3.11/dist-packages (from torch>=1.11.0->sentence-transformers) (9.1.0.70)\n",
            "Requirement already satisfied: nvidia-cublas-cu12==12.4.5.8 in /usr/local/lib/python3.11/dist-packages (from torch>=1.11.0->sentence-transformers) (12.4.5.8)\n",
            "Requirement already satisfied: nvidia-cufft-cu12==11.2.1.3 in /usr/local/lib/python3.11/dist-packages (from torch>=1.11.0->sentence-transformers) (11.2.1.3)\n",
            "Requirement already satisfied: nvidia-curand-cu12==10.3.5.147 in /usr/local/lib/python3.11/dist-packages (from torch>=1.11.0->sentence-transformers) (10.3.5.147)\n",
            "Requirement already satisfied: nvidia-cusolver-cu12==11.6.1.9 in /usr/local/lib/python3.11/dist-packages (from torch>=1.11.0->sentence-transformers) (11.6.1.9)\n",
            "Requirement already satisfied: nvidia-cusparse-cu12==12.3.1.170 in /usr/local/lib/python3.11/dist-packages (from torch>=1.11.0->sentence-transformers) (12.3.1.170)\n",
            "Requirement already satisfied: nvidia-cusparselt-cu12==0.6.2 in /usr/local/lib/python3.11/dist-packages (from torch>=1.11.0->sentence-transformers) (0.6.2)\n",
            "Requirement already satisfied: nvidia-nccl-cu12==2.21.5 in /usr/local/lib/python3.11/dist-packages (from torch>=1.11.0->sentence-transformers) (2.21.5)\n",
            "Requirement already satisfied: nvidia-nvtx-cu12==12.4.127 in /usr/local/lib/python3.11/dist-packages (from torch>=1.11.0->sentence-transformers) (12.4.127)\n",
            "Requirement already satisfied: nvidia-nvjitlink-cu12==12.4.127 in /usr/local/lib/python3.11/dist-packages (from torch>=1.11.0->sentence-transformers) (12.4.127)\n",
            "Requirement already satisfied: triton==3.2.0 in /usr/local/lib/python3.11/dist-packages (from torch>=1.11.0->sentence-transformers) (3.2.0)\n",
            "Requirement already satisfied: sympy==1.13.1 in /usr/local/lib/python3.11/dist-packages (from torch>=1.11.0->sentence-transformers) (1.13.1)\n",
            "Requirement already satisfied: mpmath<1.4,>=1.1.0 in /usr/local/lib/python3.11/dist-packages (from sympy==1.13.1->torch>=1.11.0->sentence-transformers) (1.3.0)\n",
            "Requirement already satisfied: numpy>=1.17 in /usr/local/lib/python3.11/dist-packages (from transformers<5.0.0,>=4.41.0->sentence-transformers) (2.0.2)\n",
            "Requirement already satisfied: regex!=2019.12.17 in /usr/local/lib/python3.11/dist-packages (from transformers<5.0.0,>=4.41.0->sentence-transformers) (2024.11.6)\n",
            "Requirement already satisfied: tokenizers<0.22,>=0.21 in /usr/local/lib/python3.11/dist-packages (from transformers<5.0.0,>=4.41.0->sentence-transformers) (0.21.4)\n",
            "Requirement already satisfied: safetensors>=0.4.3 in /usr/local/lib/python3.11/dist-packages (from transformers<5.0.0,>=4.41.0->sentence-transformers) (0.5.3)\n",
            "Requirement already satisfied: joblib>=1.2.0 in /usr/local/lib/python3.11/dist-packages (from scikit-learn->sentence-transformers) (1.5.1)\n",
            "Requirement already satisfied: threadpoolctl>=3.1.0 in /usr/local/lib/python3.11/dist-packages (from scikit-learn->sentence-transformers) (3.6.0)\n",
            "Requirement already satisfied: MarkupSafe>=2.0 in /usr/local/lib/python3.11/dist-packages (from jinja2->torch>=1.11.0->sentence-transformers) (3.0.2)\n",
            "Requirement already satisfied: charset-normalizer<4,>=2 in /usr/local/lib/python3.11/dist-packages (from requests->huggingface-hub>=0.20.0->sentence-transformers) (3.4.2)\n",
            "Requirement already satisfied: idna<4,>=2.5 in /usr/local/lib/python3.11/dist-packages (from requests->huggingface-hub>=0.20.0->sentence-transformers) (3.10)\n",
            "Requirement already satisfied: urllib3<3,>=1.21.1 in /usr/local/lib/python3.11/dist-packages (from requests->huggingface-hub>=0.20.0->sentence-transformers) (2.5.0)\n",
            "Requirement already satisfied: certifi>=2017.4.17 in /usr/local/lib/python3.11/dist-packages (from requests->huggingface-hub>=0.20.0->sentence-transformers) (2025.7.14)\n",
            "Requirement already satisfied: faiss-cpu in /usr/local/lib/python3.11/dist-packages (1.11.0.post1)\n",
            "Requirement already satisfied: numpy<3.0,>=1.25.0 in /usr/local/lib/python3.11/dist-packages (from faiss-cpu) (2.0.2)\n",
            "Requirement already satisfied: packaging in /usr/local/lib/python3.11/dist-packages (from faiss-cpu) (25.0)\n",
            "Requirement already satisfied: edge-tts in /usr/local/lib/python3.11/dist-packages (7.0.2)\n",
            "Requirement already satisfied: aiohttp<4.0.0,>=3.8.0 in /usr/local/lib/python3.11/dist-packages (from edge-tts) (3.12.15)\n",
            "Requirement already satisfied: certifi>=2023.11.17 in /usr/local/lib/python3.11/dist-packages (from edge-tts) (2025.7.14)\n",
            "Requirement already satisfied: srt<4.0.0,>=3.4.1 in /usr/local/lib/python3.11/dist-packages (from edge-tts) (3.5.3)\n",
            "Requirement already satisfied: tabulate<1.0.0,>=0.4.4 in /usr/local/lib/python3.11/dist-packages (from edge-tts) (0.9.0)\n",
            "Requirement already satisfied: typing-extensions<5.0.0,>=4.1.0 in /usr/local/lib/python3.11/dist-packages (from edge-tts) (4.14.1)\n",
            "Requirement already satisfied: aiohappyeyeballs>=2.5.0 in /usr/local/lib/python3.11/dist-packages (from aiohttp<4.0.0,>=3.8.0->edge-tts) (2.6.1)\n",
            "Requirement already satisfied: aiosignal>=1.4.0 in /usr/local/lib/python3.11/dist-packages (from aiohttp<4.0.0,>=3.8.0->edge-tts) (1.4.0)\n",
            "Requirement already satisfied: attrs>=17.3.0 in /usr/local/lib/python3.11/dist-packages (from aiohttp<4.0.0,>=3.8.0->edge-tts) (25.3.0)\n",
            "Requirement already satisfied: frozenlist>=1.1.1 in /usr/local/lib/python3.11/dist-packages (from aiohttp<4.0.0,>=3.8.0->edge-tts) (1.7.0)\n",
            "Requirement already satisfied: multidict<7.0,>=4.5 in /usr/local/lib/python3.11/dist-packages (from aiohttp<4.0.0,>=3.8.0->edge-tts) (6.6.3)\n",
            "Requirement already satisfied: propcache>=0.2.0 in /usr/local/lib/python3.11/dist-packages (from aiohttp<4.0.0,>=3.8.0->edge-tts) (0.3.2)\n",
            "Requirement already satisfied: yarl<2.0,>=1.17.0 in /usr/local/lib/python3.11/dist-packages (from aiohttp<4.0.0,>=3.8.0->edge-tts) (1.20.1)\n",
            "Requirement already satisfied: idna>=2.0 in /usr/local/lib/python3.11/dist-packages (from yarl<2.0,>=1.17.0->aiohttp<4.0.0,>=3.8.0->edge-tts) (3.10)\n"
          ]
        }
      ]
    },
    {
      "cell_type": "code",
      "source": [
        "from sentence_transformers import SentenceTransformer, util\n",
        "\n",
        "#المودل تبعنا اللي نستخدمه\n",
        "model = SentenceTransformer(\"all-MiniLM-L6-v2\")\n",
        "\n",
        "\n",
        "docs = {\n",
        "    \"تراث عسير\": \"مرحبا الف بمنصة عتاق\",\n",
        "     \"الواقع الافتراضي\": \"استعد لنظرة باهرة على بنيان عسي\",\n",
        "    \"التاريخ \": \"تخيل أن هذا البناء يعود تاريخه إلى أكثر من ألف عام.\"\n",
        "\n",
        "}\n",
        "\n",
        "doc_texts = list(docs.values())\n",
        "doc_embeddings = model.encode(doc_texts, convert_to_tensor=True)\n"
      ],
      "metadata": {
        "colab": {
          "base_uri": "https://localhost:8080/"
        },
        "id": "THA7QkqYJYgu",
        "outputId": "af731a82-a5af-4fe3-a729-975598fc4ad6"
      },
      "execution_count": 51,
      "outputs": [
        {
          "output_type": "stream",
          "name": "stderr",
          "text": [
            "/usr/local/lib/python3.11/dist-packages/torch/nn/modules/module.py:1750: FutureWarning: `encoder_attention_mask` is deprecated and will be removed in version 4.55.0 for `BertSdpaSelfAttention.forward`.\n",
            "  return forward_call(*args, **kwargs)\n"
          ]
        }
      ]
    },
    {
      "cell_type": "code",
      "source": [
        "def simple_rag_bot(question):\n",
        "    question_embedding = model.encode(question, convert_to_tensor=True)\n",
        "    scores = util.cos_sim(question_embedding, doc_embeddings)\n",
        "    best_match = scores.argmax()\n",
        "    return doc_texts[best_match]\n"
      ],
      "metadata": {
        "id": "5BCcghg-J5ZY"
      },
      "execution_count": 52,
      "outputs": []
    },
    {
      "cell_type": "code",
      "source": [],
      "metadata": {
        "id": "Y9AN8Zw1J6zv"
      },
      "execution_count": null,
      "outputs": []
    },
    {
      "cell_type": "code",
      "source": [
        "import asyncio\n",
        "import edge_tts\n",
        "from IPython.display import Audio\n",
        "import nest_asyncio\n",
        "nest_asyncio.apply()\n",
        "\n",
        "async def tts_play(text, voice=\"ar-AE-HamdanNeural\", rate=\"+10%\"):\n",
        "    communicate = edge_tts.Communicate(text=text, voice=voice, rate=rate)\n",
        "    await communicate.save(\"output.mp3\")\n",
        "    return Audio(\"output.mp3\")\n",
        "\n",
        "def speak(text):\n",
        "    return asyncio.get_event_loop().run_until_complete(tts_play(text))\n"
      ],
      "metadata": {
        "id": "s9s-ipU2TBQw"
      },
      "execution_count": 53,
      "outputs": []
    },
    {
      "cell_type": "code",
      "source": [
        "question = \"ما اسم المنصة؟\"\n",
        "response = simple_rag_bot(question)\n",
        "\n",
        "print(\" رد الشات بوت:\", response)\n",
        "speak(response)\n"
      ],
      "metadata": {
        "colab": {
          "base_uri": "https://localhost:8080/",
          "height": 92
        },
        "id": "OQr91BIJS5J2",
        "outputId": "b470b8cd-7110-4f25-9e34-31cf2dc02cb0"
      },
      "execution_count": 54,
      "outputs": [
        {
          "output_type": "stream",
          "name": "stdout",
          "text": [
            " رد الشات بوت: مرحبا الف بمنصة عتاق\n"
          ]
        },
        {
          "output_type": "execute_result",
          "data": {
            "text/plain": [
              "<IPython.lib.display.Audio object>"
            ],
            "text/html": [
              "\n",
              "                <audio  controls=\"controls\" >\n",
              "                    <source src=\"data:audio/mpeg;base64,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\" type=\"audio/mpeg\" />\n",
              "                    Your browser does not support the audio element.\n",
              "                </audio>\n",
              "              "
            ]
          },
          "metadata": {},
          "execution_count": 54
        }
      ]
    },
    {
      "cell_type": "code",
      "source": [
        "!pip install elevenlabs\n"
      ],
      "metadata": {
        "colab": {
          "base_uri": "https://localhost:8080/"
        },
        "id": "8VbF-kdCKKVf",
        "outputId": "acaa5d06-48d3-4043-e910-7a4798b65d35"
      },
      "execution_count": 39,
      "outputs": [
        {
          "output_type": "stream",
          "name": "stdout",
          "text": [
            "Collecting elevenlabs\n",
            "  Downloading elevenlabs-2.8.1-py3-none-any.whl.metadata (6.3 kB)\n",
            "Requirement already satisfied: httpx>=0.21.2 in /usr/local/lib/python3.11/dist-packages (from elevenlabs) (0.28.1)\n",
            "Requirement already satisfied: pydantic>=1.9.2 in /usr/local/lib/python3.11/dist-packages (from elevenlabs) (2.11.7)\n",
            "Requirement already satisfied: pydantic-core<3.0.0,>=2.18.2 in /usr/local/lib/python3.11/dist-packages (from elevenlabs) (2.33.2)\n",
            "Requirement already satisfied: requests>=2.20 in /usr/local/lib/python3.11/dist-packages (from elevenlabs) (2.32.3)\n",
            "Requirement already satisfied: typing_extensions>=4.0.0 in /usr/local/lib/python3.11/dist-packages (from elevenlabs) (4.14.1)\n",
            "Requirement already satisfied: websockets>=11.0 in /usr/local/lib/python3.11/dist-packages (from elevenlabs) (15.0.1)\n",
            "Requirement already satisfied: anyio in /usr/local/lib/python3.11/dist-packages (from httpx>=0.21.2->elevenlabs) (4.9.0)\n",
            "Requirement already satisfied: certifi in /usr/local/lib/python3.11/dist-packages (from httpx>=0.21.2->elevenlabs) (2025.7.14)\n",
            "Requirement already satisfied: httpcore==1.* in /usr/local/lib/python3.11/dist-packages (from httpx>=0.21.2->elevenlabs) (1.0.9)\n",
            "Requirement already satisfied: idna in /usr/local/lib/python3.11/dist-packages (from httpx>=0.21.2->elevenlabs) (3.10)\n",
            "Requirement already satisfied: h11>=0.16 in /usr/local/lib/python3.11/dist-packages (from httpcore==1.*->httpx>=0.21.2->elevenlabs) (0.16.0)\n",
            "Requirement already satisfied: annotated-types>=0.6.0 in /usr/local/lib/python3.11/dist-packages (from pydantic>=1.9.2->elevenlabs) (0.7.0)\n",
            "Requirement already satisfied: typing-inspection>=0.4.0 in /usr/local/lib/python3.11/dist-packages (from pydantic>=1.9.2->elevenlabs) (0.4.1)\n",
            "Requirement already satisfied: charset-normalizer<4,>=2 in /usr/local/lib/python3.11/dist-packages (from requests>=2.20->elevenlabs) (3.4.2)\n",
            "Requirement already satisfied: urllib3<3,>=1.21.1 in /usr/local/lib/python3.11/dist-packages (from requests>=2.20->elevenlabs) (2.5.0)\n",
            "Requirement already satisfied: sniffio>=1.1 in /usr/local/lib/python3.11/dist-packages (from anyio->httpx>=0.21.2->elevenlabs) (1.3.1)\n",
            "Downloading elevenlabs-2.8.1-py3-none-any.whl (767 kB)\n",
            "\u001b[2K   \u001b[90m━━━━━━━━━━━━━━━━━━━━━━━━━━━━━━━━━━━━━━━━\u001b[0m \u001b[32m767.3/767.3 kB\u001b[0m \u001b[31m9.8 MB/s\u001b[0m eta \u001b[36m0:00:00\u001b[0m\n",
            "\u001b[?25hInstalling collected packages: elevenlabs\n",
            "Successfully installed elevenlabs-2.8.1\n"
          ]
        }
      ]
    },
    {
      "cell_type": "code",
      "source": [],
      "metadata": {
        "id": "T5uuxbQnTDMV"
      },
      "execution_count": null,
      "outputs": []
    }
  ],
  "metadata": {
    "colab": {
      "name": "Welcome To Colab",
      "provenance": [],
      "include_colab_link": true
    },
    "kernelspec": {
      "display_name": "Python 3",
      "name": "python3"
    }
  },
  "nbformat": 4,
  "nbformat_minor": 0
}